{
 "cells": [
  {
   "cell_type": "code",
   "execution_count": 1,
   "id": "aa627e74",
   "metadata": {},
   "outputs": [],
   "source": [
    "def Agecategory():\n",
    "    if(age<18):\n",
    "        print(\"children\")\n",
    "        cate=\"children\"\n",
    "    elif(age<35):\n",
    "        print(\"Adult\")\n",
    "        cate=\"Adult\"\n",
    "    elif(age<59):\n",
    "        print(\"Citizen\")\n",
    "        cate=\"Citizen\"\n",
    "    else:\n",
    "        print(\"Senior Citizen\")\n",
    "        cate=\"Senior Citizen\"\n",
    "    return cate"
   ]
  },
  {
   "cell_type": "code",
   "execution_count": 2,
   "id": "735e9fba",
   "metadata": {},
   "outputs": [
    {
     "name": "stdout",
     "output_type": "stream",
     "text": [
      "Enter the age:35\n",
      "Citizen\n"
     ]
    }
   ],
   "source": [
    "age=int(input(\"Enter the age:\"))\n",
    "agecate=Agecategory()"
   ]
  },
  {
   "cell_type": "code",
   "execution_count": 3,
   "id": "e5f8738d",
   "metadata": {},
   "outputs": [
    {
     "name": "stdout",
     "output_type": "stream",
     "text": [
      "Citizen\n"
     ]
    }
   ],
   "source": [
    "print(agecate)"
   ]
  },
  {
   "cell_type": "code",
   "execution_count": null,
   "id": "16560a6c",
   "metadata": {},
   "outputs": [],
   "source": [
    "No return statement example below."
   ]
  },
  {
   "cell_type": "code",
   "execution_count": 4,
   "id": "8f10064c",
   "metadata": {},
   "outputs": [],
   "source": [
    "def AgecategoryNOR():\n",
    "    if(age<18):\n",
    "        print(\"children\")\n",
    "        cate=\"children\"\n",
    "    elif(age<35):\n",
    "        print(\"Adult\")\n",
    "        cate=\"Adult\"\n",
    "    elif(age<59):\n",
    "        print(\"Citizen\")\n",
    "        cate=\"Citizen\"\n",
    "    else:\n",
    "        print(\"Senior Citizen\")\n",
    "        cate=\"Senior Citizen\"\n",
    "    "
   ]
  },
  {
   "cell_type": "code",
   "execution_count": 5,
   "id": "bc8dc3c0",
   "metadata": {},
   "outputs": [
    {
     "name": "stdout",
     "output_type": "stream",
     "text": [
      "Enter the age:45\n",
      "Citizen\n"
     ]
    }
   ],
   "source": [
    "age=int(input(\"Enter the age:\"))\n",
    "agecate=AgecategoryNOR()"
   ]
  },
  {
   "cell_type": "code",
   "execution_count": 6,
   "id": "d342f159",
   "metadata": {},
   "outputs": [
    {
     "name": "stdout",
     "output_type": "stream",
     "text": [
      "None\n"
     ]
    }
   ],
   "source": [
    "print(agecate)"
   ]
  },
  {
   "cell_type": "code",
   "execution_count": 7,
   "id": "f02ef695",
   "metadata": {},
   "outputs": [
    {
     "name": "stdout",
     "output_type": "stream",
     "text": [
      "Enter the age:23\n",
      "Adult\n"
     ]
    }
   ],
   "source": [
    "age=int(input(\"Enter the age:\"))\n",
    "agecate1=AgecategoryNOR()"
   ]
  },
  {
   "cell_type": "code",
   "execution_count": 8,
   "id": "1b983a39",
   "metadata": {},
   "outputs": [
    {
     "name": "stdout",
     "output_type": "stream",
     "text": [
      "Enter the age:75\n",
      "Senior Citizen\n"
     ]
    }
   ],
   "source": [
    "age=int(input(\"Enter the age:\"))\n",
    "agecate2=AgecategoryNOR()"
   ]
  },
  {
   "cell_type": "code",
   "execution_count": 9,
   "id": "10259e42",
   "metadata": {},
   "outputs": [
    {
     "name": "stdout",
     "output_type": "stream",
     "text": [
      "Enter the age:47\n",
      "Citizen\n"
     ]
    }
   ],
   "source": [
    "age=int(input(\"Enter the age:\"))\n",
    "agecate2=AgecategoryNOR()"
   ]
  },
  {
   "cell_type": "code",
   "execution_count": 10,
   "id": "8cc2664a",
   "metadata": {},
   "outputs": [],
   "source": [
    "def oddeven():\n",
    "    num=int(input(\"Enter the number:\"))\n",
    "    if((num%2)==0):\n",
    "        print(\"Even number\")\n",
    "        message=(\"Even number\")\n",
    "    else:\n",
    "        print(\"Odd number\")\n",
    "        message=(\"Odd number\")"
   ]
  },
  {
   "cell_type": "code",
   "execution_count": 11,
   "id": "e39f22f2",
   "metadata": {},
   "outputs": [
    {
     "name": "stdout",
     "output_type": "stream",
     "text": [
      "Enter the number:5\n",
      "Odd number\n"
     ]
    }
   ],
   "source": [
    "message=oddeven()"
   ]
  },
  {
   "cell_type": "code",
   "execution_count": null,
   "id": "e5a0f149",
   "metadata": {},
   "outputs": [],
   "source": [
    "Non Perameterised or non Arguments (Inputs) Example below.If nothing inside the function def oddeven() then it is non perameterised."
   ]
  },
  {
   "cell_type": "code",
   "execution_count": 12,
   "id": "118c64b5",
   "metadata": {},
   "outputs": [],
   "source": [
    "def oddeven():\n",
    "    num=int(input(\"Enter the number:\"))\n",
    "    if((num%2)==0):\n",
    "        print(\"Even number\")\n",
    "        message=(\"Even number\")\n",
    "    else:\n",
    "        print(\"Odd number\")\n",
    "        message=(\"Odd number\")\n",
    "    return message"
   ]
  },
  {
   "cell_type": "code",
   "execution_count": 13,
   "id": "15470a31",
   "metadata": {},
   "outputs": [
    {
     "name": "stdout",
     "output_type": "stream",
     "text": [
      "Enter the number:7\n",
      "Odd number\n"
     ]
    }
   ],
   "source": [
    "message=oddeven()"
   ]
  },
  {
   "cell_type": "code",
   "execution_count": 14,
   "id": "e7889918",
   "metadata": {},
   "outputs": [
    {
     "name": "stdout",
     "output_type": "stream",
     "text": [
      "Odd number\n"
     ]
    }
   ],
   "source": [
    "print(message)"
   ]
  },
  {
   "cell_type": "code",
   "execution_count": null,
   "id": "613a10de",
   "metadata": {},
   "outputs": [],
   "source": [
    "if(message==\"Even number\"):\n",
    "    print(\"The Given Number Is Even Number\")\n",
    "else:\n",
    "    print(\"The Given Number Is Odd Number\")"
   ]
  },
  {
   "cell_type": "code",
   "execution_count": 19,
   "id": "a0ff8f14",
   "metadata": {},
   "outputs": [],
   "source": [
    "def BMI():\n",
    "    BMI=int(input(\"Enter the BMI Index:\"))\n",
    "    if(BMI<18.5):\n",
    "        print(\"Underweight\")\n",
    "        message=(\"Underweight\")\n",
    "    elif(BMI<25):\n",
    "        print(\"Normal\")\n",
    "        message=(\"Normal\")\n",
    "    elif(BMI<30):\n",
    "        print(\"Overweight\")\n",
    "        message=(\"Overweight\")\n",
    "    else:\n",
    "        print(\"Very Overweight\")\n",
    "        message=(\"Very Overweight\")\n",
    "    return message   \n",
    "       "
   ]
  },
  {
   "cell_type": "code",
   "execution_count": 20,
   "id": "de47afbe",
   "metadata": {},
   "outputs": [
    {
     "name": "stdout",
     "output_type": "stream",
     "text": [
      "Enter the BMI Index:23\n",
      "Normal\n"
     ]
    }
   ],
   "source": [
    "BMI=BMI()"
   ]
  },
  {
   "cell_type": "code",
   "execution_count": null,
   "id": "2ecfad32",
   "metadata": {},
   "outputs": [],
   "source": [
    "Perameterised or Arguments (Inputs). If numbers or someting inside ()the function def oddeven() then it is perameterised."
   ]
  },
  {
   "cell_type": "code",
   "execution_count": 15,
   "id": "650f7de3",
   "metadata": {},
   "outputs": [],
   "source": [
    "def addition(num1,num2):\n",
    "    addition=num1+num2\n",
    "    return addition"
   ]
  },
  {
   "cell_type": "code",
   "execution_count": 8,
   "id": "60bfa6fd",
   "metadata": {},
   "outputs": [
    {
     "data": {
      "text/plain": [
       "20"
      ]
     },
     "execution_count": 8,
     "metadata": {},
     "output_type": "execute_result"
    }
   ],
   "source": [
    "addition(4,16)"
   ]
  },
  {
   "cell_type": "code",
   "execution_count": 9,
   "id": "f3d2fba0",
   "metadata": {},
   "outputs": [],
   "source": [
    "def subtraction(num1,num2):\n",
    "    sub=num1-num2\n",
    "    return sub"
   ]
  },
  {
   "cell_type": "code",
   "execution_count": 10,
   "id": "9b3b335e",
   "metadata": {},
   "outputs": [
    {
     "data": {
      "text/plain": [
       "-5"
      ]
     },
     "execution_count": 10,
     "metadata": {},
     "output_type": "execute_result"
    }
   ],
   "source": [
    "subtraction(7,12)"
   ]
  },
  {
   "cell_type": "code",
   "execution_count": 11,
   "id": "40752186",
   "metadata": {},
   "outputs": [],
   "source": [
    "def mul(num1,num2):\n",
    "    Mul=num1*num2\n",
    "    return Mul"
   ]
  },
  {
   "cell_type": "code",
   "execution_count": 12,
   "id": "bb997bb6",
   "metadata": {},
   "outputs": [
    {
     "data": {
      "text/plain": [
       "15"
      ]
     },
     "execution_count": 12,
     "metadata": {},
     "output_type": "execute_result"
    }
   ],
   "source": [
    "mul(5,3)"
   ]
  },
  {
   "cell_type": "code",
   "execution_count": null,
   "id": "b4997d15",
   "metadata": {},
   "outputs": [],
   "source": []
  }
 ],
 "metadata": {
  "kernelspec": {
   "display_name": "Python 3 (ipykernel)",
   "language": "python",
   "name": "python3"
  },
  "language_info": {
   "codemirror_mode": {
    "name": "ipython",
    "version": 3
   },
   "file_extension": ".py",
   "mimetype": "text/x-python",
   "name": "python",
   "nbconvert_exporter": "python",
   "pygments_lexer": "ipython3",
   "version": "3.11.5"
  }
 },
 "nbformat": 4,
 "nbformat_minor": 5
}
