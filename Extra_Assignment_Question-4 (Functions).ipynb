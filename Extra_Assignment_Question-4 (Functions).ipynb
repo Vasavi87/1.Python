{
 "cells": [
  {
   "cell_type": "code",
   "execution_count": null,
   "id": "4d297320",
   "metadata": {},
   "outputs": [],
   "source": [
    "# Create a class and function, and list out the items in the list\n",
    "\n",
    "SubfieldsInAI.Subfields()\n",
    "Sub-fields in AI are:\n",
    "Machine Learning\n",
    "Neural Networks\n",
    "Vision\n",
    "Robotics\n",
    "Speech Processing\n",
    "Natural Language Processing"
   ]
  },
  {
   "cell_type": "code",
   "execution_count": 114,
   "id": "2582974a",
   "metadata": {},
   "outputs": [],
   "source": [
    "AI=[\"Machine Learning\",\"Neural Networks\",\"Vision\",\"Robotics\",\"Speech Processing\",\"Natural Language Processing\"]\n",
    "\n",
    "class SubfieldsInAI():\n",
    "    def Subfields():\n",
    "        print(\"Sub-fields in AI are: \")\n",
    "        for Subfields in AI:\n",
    "            print(Subfields)\n",
    "            message=(\"Subfields\")\n",
    "        return (Subfields)"
   ]
  },
  {
   "cell_type": "code",
   "execution_count": 115,
   "id": "e5384c04",
   "metadata": {},
   "outputs": [
    {
     "name": "stdout",
     "output_type": "stream",
     "text": [
      "Sub-fields in AI are: \n",
      "Machine Learning\n",
      "Neural Networks\n",
      "Vision\n",
      "Robotics\n",
      "Speech Processing\n",
      "Natural Language Processing\n"
     ]
    },
    {
     "data": {
      "text/plain": [
       "'Natural Language Processing'"
      ]
     },
     "execution_count": 115,
     "metadata": {},
     "output_type": "execute_result"
    }
   ],
   "source": [
    "SubfieldsInAI.Subfields()"
   ]
  },
  {
   "cell_type": "code",
   "execution_count": null,
   "id": "a32d5da1",
   "metadata": {},
   "outputs": [],
   "source": [
    "# Create a function that checks whether the given number is Odd or Even\n",
    "    OddEven.OddEven()\n",
    "    Enter a number: 52452\n",
    "    52452 is Even number"
   ]
  },
  {
   "cell_type": "code",
   "execution_count": 1,
   "id": "9a52a86a",
   "metadata": {},
   "outputs": [
    {
     "name": "stdout",
     "output_type": "stream",
     "text": [
      "Enter a number: 52452\n",
      "52452 is Even number\n"
     ]
    }
   ],
   "source": [
    "num=int(input(\"Enter a number: \"))\n",
    "if(num%2==0):\n",
    "    print(num,\"is Even number\")\n",
    "else:\n",
    "    print(num,\"is odd number\")"
   ]
  },
  {
   "cell_type": "code",
   "execution_count": 116,
   "id": "4f3a2db9",
   "metadata": {},
   "outputs": [],
   "source": [
    "class OddEven():\n",
    "    def OddEven():\n",
    "        num=int(input(\"Enter a number: \"))\n",
    "        if(num%2==0):\n",
    "            print(num,\"is Even number\")\n",
    "            message=(\"The given number is Even number\")\n",
    "        else:\n",
    "            print(num,\"is odd number\")\n",
    "            message=(\"The given number is odd number\")\n",
    "        return(message)"
   ]
  },
  {
   "cell_type": "code",
   "execution_count": 117,
   "id": "dbb377bd",
   "metadata": {},
   "outputs": [
    {
     "name": "stdout",
     "output_type": "stream",
     "text": [
      "Enter a number: 52452\n",
      "52452 is Even number\n"
     ]
    },
    {
     "data": {
      "text/plain": [
       "'The given number is Even number'"
      ]
     },
     "execution_count": 117,
     "metadata": {},
     "output_type": "execute_result"
    }
   ],
   "source": [
    "OddEven.OddEven()"
   ]
  },
  {
   "cell_type": "code",
   "execution_count": null,
   "id": "7b0608c0",
   "metadata": {},
   "outputs": [],
   "source": [
    "# Create a function that tells elegibility of marriage for male and female according to their age limit like 21 for male and 18 for female\n",
    "\n",
    "ElegiblityForMarriage.Elegible()\n",
    "Your Gender:Male\n",
    "Your Age:20\n",
    "NOT ELIGIBLE\n"
   ]
  },
  {
   "cell_type": "code",
   "execution_count": 109,
   "id": "550423d1",
   "metadata": {},
   "outputs": [],
   "source": [
    "class ElegiblityForMarriage():\n",
    "    def Eligible():\n",
    "        Gender=str(input(\"Your Gender: \"))\n",
    "        Age=int(input(\"Your Age: \"))\n",
    "        if(Gender==\"Male\"):\n",
    "            if(Age>=21):\n",
    "                print(\"ELIGIBLE\")\n",
    "                message=(\"ELIGIBLE\")\n",
    "            else:\n",
    "                print(\"Not ELIGIBLE\")\n",
    "                message=(\"Not ELIGIBLE\")\n",
    "            return message\n",
    "        else:\n",
    "            if(Gender==\"Female\"):\n",
    "                if(Age>=18):\n",
    "                    print(\"ELIGIBLE\")\n",
    "                    message=(\"ELIGIBLE\")\n",
    "                else:\n",
    "                    print(\"Not ELIGIBLE\")\n",
    "                    message=(\"Not ELIGIBLE\")    \n",
    "                return message"
   ]
  },
  {
   "cell_type": "code",
   "execution_count": 113,
   "id": "7e81b2ad",
   "metadata": {},
   "outputs": [
    {
     "name": "stdout",
     "output_type": "stream",
     "text": [
      "Your Gender: Male\n",
      "Your Age: 20\n",
      "Not ELIGIBLE\n"
     ]
    },
    {
     "data": {
      "text/plain": [
       "'Not ELIGIBLE'"
      ]
     },
     "execution_count": 113,
     "metadata": {},
     "output_type": "execute_result"
    }
   ],
   "source": [
    "ElegiblityForMarriage.Eligible()"
   ]
  },
  {
   "cell_type": "code",
   "execution_count": null,
   "id": "0ca05cf2",
   "metadata": {},
   "outputs": [],
   "source": [
    "# calculate the percentage of your 10th mark\n",
    "FindPercent.percentage()\n",
    "Subject1= 98\n",
    "Subject2= 87\n",
    "Subject3= 95\n",
    "Subject4= 95\n",
    "Subject5= 93\n",
    "Total : 468\n",
    "Percentage : 93.60000000000001"
   ]
  },
  {
   "cell_type": "code",
   "execution_count": 78,
   "id": "389a9767",
   "metadata": {},
   "outputs": [],
   "source": [
    "Subject1= 98\n",
    "Subject2= 87\n",
    "Subject3= 95\n",
    "Subject4= 95\n",
    "Subject5= 93"
   ]
  },
  {
   "cell_type": "code",
   "execution_count": 119,
   "id": "4fa41fa4",
   "metadata": {},
   "outputs": [],
   "source": [
    "class FindPercent():\n",
    "    def percentage():\n",
    "        Total=Subject1+Subject2+Subject3+Subject4+Subject5\n",
    "        percentage=(Total/500)*100\n",
    "        print(\"Subject1= 98\")\n",
    "        print(\"Subject2= 87\")\n",
    "        print(\"Subject3= 95\")\n",
    "        print(\"Subject4= 95\")\n",
    "        print(\"Subject5= 93\")\n",
    "        print(\"Total :\", Total)\n",
    "        print(\"percentage :\",percentage)\n",
    "        message=percentage\n",
    "        return message"
   ]
  },
  {
   "cell_type": "code",
   "execution_count": 120,
   "id": "7a0ae989",
   "metadata": {},
   "outputs": [
    {
     "name": "stdout",
     "output_type": "stream",
     "text": [
      "Subject1= 98\n",
      "Subject2= 87\n",
      "Subject3= 95\n",
      "Subject4= 95\n",
      "Subject5= 93\n",
      "Total : 468\n",
      "percentage : 93.60000000000001\n"
     ]
    },
    {
     "data": {
      "text/plain": [
       "93.60000000000001"
      ]
     },
     "execution_count": 120,
     "metadata": {},
     "output_type": "execute_result"
    }
   ],
   "source": [
    "FindPercent.percentage()"
   ]
  },
  {
   "cell_type": "code",
   "execution_count": null,
   "id": "58f62e43",
   "metadata": {},
   "outputs": [],
   "source": [
    "#print area and perimeter of triangle using class and functions\n",
    "triangle()\n",
    "Height:32\n",
    "Breadth:34\n",
    "Area formula: (Height*Breadth)/2\n",
    "Area of Triangle: 544.0\n",
    "Height1:2\n",
    "Height2:4\n",
    "Breadth:4\n",
    "Perimeter formula: Height1+Height2+Breadth\n",
    "Perimeter of Triangle: 1"
   ]
  },
  {
   "cell_type": "code",
   "execution_count": 156,
   "id": "6114862c",
   "metadata": {},
   "outputs": [],
   "source": [
    "class triangle():\n",
    "    def Area():\n",
    "        Height=32\n",
    "        Breadth=34\n",
    "        Area=(Height*Breadth)/2\n",
    "        print(\"Area of Triangle:\", Area)\n",
    "        message=Area\n",
    "        return message\n",
    "\n",
    "    def Perimeter():\n",
    "        Height1=2\n",
    "        Height2=4\n",
    "        Breadth=4\n",
    "        Perimeter=Height1+Height2+Breadth\n",
    "        print(\"Perimeter of Triangle:\", Perimeter)\n",
    "        message=Perimeter\n",
    "        return message"
   ]
  },
  {
   "cell_type": "code",
   "execution_count": 157,
   "id": "43dcda35",
   "metadata": {},
   "outputs": [
    {
     "name": "stdout",
     "output_type": "stream",
     "text": [
      "Perimeter of Triangle: 10\n"
     ]
    },
    {
     "data": {
      "text/plain": [
       "10"
      ]
     },
     "execution_count": 157,
     "metadata": {},
     "output_type": "execute_result"
    }
   ],
   "source": [
    "triangle.Perimeter()"
   ]
  },
  {
   "cell_type": "code",
   "execution_count": null,
   "id": "13cab889",
   "metadata": {},
   "outputs": [],
   "source": []
  }
 ],
 "metadata": {
  "kernelspec": {
   "display_name": "Python 3 (ipykernel)",
   "language": "python",
   "name": "python3"
  },
  "language_info": {
   "codemirror_mode": {
    "name": "ipython",
    "version": 3
   },
   "file_extension": ".py",
   "mimetype": "text/x-python",
   "name": "python",
   "nbconvert_exporter": "python",
   "pygments_lexer": "ipython3",
   "version": "3.11.5"
  }
 },
 "nbformat": 4,
 "nbformat_minor": 5
}
