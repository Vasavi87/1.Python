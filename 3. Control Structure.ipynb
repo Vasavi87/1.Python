{
 "cells": [
  {
   "cell_type": "code",
   "execution_count": null,
   "id": "4aff5064",
   "metadata": {},
   "outputs": [],
   "source": [
    "# if():\n",
    "      print()  "
   ]
  },
  {
   "cell_type": "code",
   "execution_count": 21,
   "id": "4d87d41c",
   "metadata": {},
   "outputs": [
    {
     "name": "stdout",
     "output_type": "stream",
     "text": [
      "Enter the age:18\n"
     ]
    }
   ],
   "source": [
    "age=int(input(\"Enter the age:\"))"
   ]
  },
  {
   "cell_type": "code",
   "execution_count": 23,
   "id": "ce8cb9a2",
   "metadata": {},
   "outputs": [
    {
     "name": "stdout",
     "output_type": "stream",
     "text": [
      "Adult\n"
     ]
    }
   ],
   "source": [
    " if(age==18):\n",
    "        print(\"Adult\")"
   ]
  },
  {
   "cell_type": "code",
   "execution_count": 31,
   "id": "9cc9258e",
   "metadata": {},
   "outputs": [
    {
     "name": "stdout",
     "output_type": "stream",
     "text": [
      "Enter the country:india\n"
     ]
    }
   ],
   "source": [
    "country=input(str(\"Enter the country:\"))"
   ]
  },
  {
   "cell_type": "code",
   "execution_count": 33,
   "id": "8cdd19d0",
   "metadata": {},
   "outputs": [
    {
     "name": "stdout",
     "output_type": "stream",
     "text": [
      "IND\n"
     ]
    }
   ],
   "source": [
    "if(country==\"india\"):\n",
    "    print(\"IND\")"
   ]
  },
  {
   "cell_type": "code",
   "execution_count": 34,
   "id": "6aa69385",
   "metadata": {},
   "outputs": [
    {
     "name": "stdout",
     "output_type": "stream",
     "text": [
      "Enter the mark:80\n"
     ]
    }
   ],
   "source": [
    "Mark=int(input(\"Enter the mark:\"))"
   ]
  },
  {
   "cell_type": "code",
   "execution_count": 36,
   "id": "32642040",
   "metadata": {},
   "outputs": [
    {
     "name": "stdout",
     "output_type": "stream",
     "text": [
      "Topper\n"
     ]
    }
   ],
   "source": [
    "if(Mark==80):\n",
    "    print(\"Topper\")"
   ]
  },
  {
   "cell_type": "code",
   "execution_count": null,
   "id": "92a7dd4a",
   "metadata": {},
   "outputs": [],
   "source": [
    "#if-else syntax\n",
    "if():\n",
    "    print()\n",
    "else:\n",
    "    print()"
   ]
  },
  {
   "cell_type": "code",
   "execution_count": 41,
   "id": "78391ad0",
   "metadata": {},
   "outputs": [
    {
     "name": "stdout",
     "output_type": "stream",
     "text": [
      "Enter the age:15\n"
     ]
    }
   ],
   "source": [
    "Age=int(input(\"Enter the age:\"))"
   ]
  },
  {
   "cell_type": "code",
   "execution_count": 44,
   "id": "a84516a2",
   "metadata": {},
   "outputs": [
    {
     "name": "stdout",
     "output_type": "stream",
     "text": [
      "Children\n"
     ]
    }
   ],
   "source": [
    "if(Age<18):\n",
    "    print(\"Children\")\n",
    "else:\n",
    "    print(\"Adult\")"
   ]
  },
  {
   "cell_type": "code",
   "execution_count": null,
   "id": "81177002",
   "metadata": {},
   "outputs": [],
   "source": [
    "#if-elif syntax\n",
    "if():\n",
    "    print()\n",
    "elif():\n",
    "    print()\n",
    "elif():\n",
    "    print()\n",
    "else:\n",
    "    print()"
   ]
  },
  {
   "cell_type": "code",
   "execution_count": 57,
   "id": "89edba30",
   "metadata": {},
   "outputs": [
    {
     "name": "stdout",
     "output_type": "stream",
     "text": [
      "enter the age:56\n"
     ]
    }
   ],
   "source": [
    "Age=int(input(\"enter the age:\"))"
   ]
  },
  {
   "cell_type": "code",
   "execution_count": 58,
   "id": "12a546b7",
   "metadata": {},
   "outputs": [
    {
     "name": "stdout",
     "output_type": "stream",
     "text": [
      "citizen\n"
     ]
    }
   ],
   "source": [
    "if(Age<18):\n",
    "    print(\"Children\")\n",
    "elif(Age<35):\n",
    "    print(\"Adult\")\n",
    "elif(Age<59):\n",
    "    print(\"citizen\")\n",
    "else:\n",
    "    print(\"senior citizen\")  "
   ]
  },
  {
   "cell_type": "code",
   "execution_count": null,
   "id": "d46b62a1",
   "metadata": {},
   "outputs": [],
   "source": [
    "# for loop\n",
    "for temp in Mainvariable:\n",
    "    print(temp)"
   ]
  },
  {
   "cell_type": "code",
   "execution_count": 65,
   "id": "15e32bad",
   "metadata": {},
   "outputs": [],
   "source": [
    "Lists=[83,74,59,45,34,23,17]"
   ]
  },
  {
   "cell_type": "code",
   "execution_count": 66,
   "id": "b5c69a46",
   "metadata": {},
   "outputs": [
    {
     "name": "stdout",
     "output_type": "stream",
     "text": [
      "83\n",
      "74\n",
      "59\n",
      "45\n",
      "34\n",
      "23\n",
      "17\n"
     ]
    }
   ],
   "source": [
    "for temp in Lists:\n",
    "    print(temp)"
   ]
  },
  {
   "cell_type": "code",
   "execution_count": 67,
   "id": "f3f09fc2",
   "metadata": {},
   "outputs": [],
   "source": [
    "Lists=[83,74,59,45,34,23,17]"
   ]
  },
  {
   "cell_type": "code",
   "execution_count": 68,
   "id": "9f77b589",
   "metadata": {},
   "outputs": [
    {
     "name": "stdout",
     "output_type": "stream",
     "text": [
      "Senior Citizen\n",
      "Senior Citizen\n",
      "Senior Citizen\n",
      "Citizen\n",
      "Adult\n",
      "Adult\n",
      "children\n"
     ]
    }
   ],
   "source": [
    "for age in Lists:\n",
    "    if(age<18):\n",
    "        print(\"children\")\n",
    "    elif(age<35):\n",
    "        print(\"Adult\")\n",
    "    elif(age<59):\n",
    "         print(\"Citizen\")\n",
    "    else:\n",
    "        print(\"Senior Citizen\")\n",
    "    "
   ]
  },
  {
   "cell_type": "code",
   "execution_count": null,
   "id": "50ec0ae7",
   "metadata": {},
   "outputs": [],
   "source": [
    "# Odd or Even\n",
    "(num%2)==0"
   ]
  },
  {
   "cell_type": "code",
   "execution_count": 71,
   "id": "f16f3dee",
   "metadata": {},
   "outputs": [
    {
     "name": "stdout",
     "output_type": "stream",
     "text": [
      "Enter the number:6\n",
      "Even number\n"
     ]
    }
   ],
   "source": [
    "num=int(input(\"Enter the number:\"))\n",
    "if((num%2)==0):\n",
    "    print(\"Even number\")\n",
    "else:\n",
    "    print(\"Odd number\")"
   ]
  },
  {
   "cell_type": "code",
   "execution_count": null,
   "id": "a9590696",
   "metadata": {},
   "outputs": [],
   "source": [
    "# Range\n",
    "for num in range:\n",
    "    print(num)\n"
   ]
  },
  {
   "cell_type": "code",
   "execution_count": 74,
   "id": "4ab118b7",
   "metadata": {},
   "outputs": [
    {
     "name": "stdout",
     "output_type": "stream",
     "text": [
      "0\n",
      "1\n",
      "2\n",
      "3\n",
      "4\n",
      "5\n",
      "6\n",
      "7\n",
      "8\n",
      "9\n"
     ]
    }
   ],
   "source": [
    "for num in range(0,10):\n",
    "    print(num)"
   ]
  },
  {
   "cell_type": "code",
   "execution_count": 76,
   "id": "8842f1f8",
   "metadata": {},
   "outputs": [
    {
     "name": "stdout",
     "output_type": "stream",
     "text": [
      "30\n",
      "33\n",
      "36\n",
      "39\n",
      "42\n",
      "45\n",
      "48\n"
     ]
    }
   ],
   "source": [
    "for num in range(30,50,3):\n",
    "    print(num)"
   ]
  },
  {
   "cell_type": "code",
   "execution_count": null,
   "id": "3b18398a",
   "metadata": {},
   "outputs": [],
   "source": []
  }
 ],
 "metadata": {
  "kernelspec": {
   "display_name": "Python 3 (ipykernel)",
   "language": "python",
   "name": "python3"
  },
  "language_info": {
   "codemirror_mode": {
    "name": "ipython",
    "version": 3
   },
   "file_extension": ".py",
   "mimetype": "text/x-python",
   "name": "python",
   "nbconvert_exporter": "python",
   "pygments_lexer": "ipython3",
   "version": "3.11.5"
  }
 },
 "nbformat": 4,
 "nbformat_minor": 5
}
