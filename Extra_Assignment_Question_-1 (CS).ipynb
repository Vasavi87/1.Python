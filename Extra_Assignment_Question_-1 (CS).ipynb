{
 "cells": [
  {
   "cell_type": "code",
   "execution_count": null,
   "id": "c3546924",
   "metadata": {},
   "outputs": [],
   "source": [
    "#print Statement  (Output should be as below)\n",
    "HOPE AI"
   ]
  },
  {
   "cell_type": "code",
   "execution_count": 1,
   "id": "f0b0fc45",
   "metadata": {},
   "outputs": [
    {
     "name": "stdout",
     "output_type": "stream",
     "text": [
      "HOPE AI\n"
     ]
    }
   ],
   "source": [
    "print(\"HOPE AI\")"
   ]
  },
  {
   "cell_type": "code",
   "execution_count": null,
   "id": "6c73c4fa",
   "metadata": {},
   "outputs": [],
   "source": [
    "# Buy input  (Output should be as below)\n",
    "Enter your institute name? : HOPE AI"
   ]
  },
  {
   "cell_type": "code",
   "execution_count": 3,
   "id": "ced80605",
   "metadata": {},
   "outputs": [
    {
     "name": "stdout",
     "output_type": "stream",
     "text": [
      "Enter your institute name? :HOPE AI\n"
     ]
    }
   ],
   "source": [
    "Institute=input(\"Enter your institute name? :\")"
   ]
  },
  {
   "cell_type": "code",
   "execution_count": null,
   "id": "1938e6dd",
   "metadata": {},
   "outputs": [],
   "source": [
    "#Buy inputs  (Output should be as below)\n",
    "Enter your name: Raj\n",
    "Enter your age: 15\n",
    "Enter your school name: Guru school\n",
    "Enter your drgree: B.E CSE"
   ]
  },
  {
   "cell_type": "code",
   "execution_count": 6,
   "id": "056cba13",
   "metadata": {},
   "outputs": [
    {
     "name": "stdout",
     "output_type": "stream",
     "text": [
      "Enter your name :Raj\n",
      "Enter your age :15\n",
      "Enter your school name :Guru school\n",
      "Enter your drgree :B.E CSE\n"
     ]
    }
   ],
   "source": [
    "Name=input(\"Enter your name :\")\n",
    "Age=input(\"Enter your age :\")\n",
    "Schoolname=input(\"Enter your school name :\")\n",
    "Degree=input(\"Enter your drgree :\")"
   ]
  },
  {
   "cell_type": "code",
   "execution_count": null,
   "id": "873d5b07",
   "metadata": {},
   "outputs": [],
   "source": [
    "#Addition  (Output should be as below)\n",
    "a= 43\n",
    "b= 34\n",
    "add = 77"
   ]
  },
  {
   "cell_type": "code",
   "execution_count": 7,
   "id": "fe332f7a",
   "metadata": {},
   "outputs": [],
   "source": [
    "a=43\n",
    "b=34"
   ]
  },
  {
   "cell_type": "code",
   "execution_count": 8,
   "id": "95f2bd1e",
   "metadata": {},
   "outputs": [],
   "source": [
    "add=(a+b)"
   ]
  },
  {
   "cell_type": "code",
   "execution_count": 9,
   "id": "26ccc145",
   "metadata": {},
   "outputs": [
    {
     "name": "stdout",
     "output_type": "stream",
     "text": [
      "77\n"
     ]
    }
   ],
   "source": [
    "print(add)"
   ]
  },
  {
   "cell_type": "code",
   "execution_count": 23,
   "id": "4b43671e",
   "metadata": {},
   "outputs": [
    {
     "name": "stdout",
     "output_type": "stream",
     "text": [
      "a= 43\n",
      "b= 34\n",
      "add= 77\n"
     ]
    }
   ],
   "source": [
    "print(\"a= 43\")\n",
    "print(\"b= 34\")\n",
    "print(\"add=\",add)"
   ]
  },
  {
   "cell_type": "code",
   "execution_count": 12,
   "id": "7145faec",
   "metadata": {},
   "outputs": [
    {
     "name": "stdout",
     "output_type": "stream",
     "text": [
      "Enter the num :43\n"
     ]
    }
   ],
   "source": [
    "a=int(input(\"Enter the num :\"))"
   ]
  },
  {
   "cell_type": "code",
   "execution_count": 13,
   "id": "7a16ef10",
   "metadata": {},
   "outputs": [
    {
     "name": "stdout",
     "output_type": "stream",
     "text": [
      "Enter the num :34\n"
     ]
    }
   ],
   "source": [
    "b=int(input(\"Enter the num :\"))\n"
   ]
  },
  {
   "cell_type": "code",
   "execution_count": 14,
   "id": "4e3ea83e",
   "metadata": {},
   "outputs": [],
   "source": [
    "add=a+b"
   ]
  },
  {
   "cell_type": "code",
   "execution_count": 16,
   "id": "77283201",
   "metadata": {},
   "outputs": [
    {
     "name": "stdout",
     "output_type": "stream",
     "text": [
      "43\n",
      "34\n",
      "77\n"
     ]
    }
   ],
   "source": [
    "print(a)\n",
    "print(b)\n",
    "print(add)"
   ]
  },
  {
   "cell_type": "code",
   "execution_count": 17,
   "id": "f5784d76",
   "metadata": {},
   "outputs": [
    {
     "name": "stdout",
     "output_type": "stream",
     "text": [
      "a=43\n",
      "b=34\n",
      "add=77\n"
     ]
    }
   ],
   "source": [
    "print(\"a=43\")\n",
    "print(\"b=34\")\n",
    "print(\"add=77\")"
   ]
  },
  {
   "cell_type": "code",
   "execution_count": null,
   "id": "063b507b",
   "metadata": {},
   "outputs": [],
   "source": [
    "#Subtraction (Output should be as below)\n",
    "a= 43\n",
    "b= 34\n",
    "Sub = 9"
   ]
  },
  {
   "cell_type": "code",
   "execution_count": 25,
   "id": "485dc341",
   "metadata": {},
   "outputs": [],
   "source": [
    "a= 43\n",
    "b= 34\n",
    "Sub=a-b"
   ]
  },
  {
   "cell_type": "code",
   "execution_count": 26,
   "id": "542cee76",
   "metadata": {},
   "outputs": [
    {
     "name": "stdout",
     "output_type": "stream",
     "text": [
      "a= 43\n",
      "b= 34\n",
      "Sub = 9\n"
     ]
    }
   ],
   "source": [
    "print(\"a= 43\")\n",
    "print(\"b= 34\")\n",
    "print(\"Sub =\",Sub)"
   ]
  },
  {
   "cell_type": "code",
   "execution_count": null,
   "id": "69969548",
   "metadata": {},
   "outputs": [],
   "source": [
    "#Multiplication (Output should be as below)\n",
    "a= 63\n",
    "b= 97\n",
    "Mul = 6111"
   ]
  },
  {
   "cell_type": "code",
   "execution_count": 27,
   "id": "de6b0914",
   "metadata": {},
   "outputs": [],
   "source": [
    "a= 63\n",
    "b= 97\n",
    "Mul=a*b"
   ]
  },
  {
   "cell_type": "code",
   "execution_count": 28,
   "id": "e36c248e",
   "metadata": {},
   "outputs": [
    {
     "name": "stdout",
     "output_type": "stream",
     "text": [
      "a= 63\n",
      "b= 97\n",
      "Mul = 6111\n"
     ]
    }
   ],
   "source": [
    "print(\"a= 63\")\n",
    "print(\"b= 97\")\n",
    "print(\"Mul =\",Mul)"
   ]
  },
  {
   "cell_type": "code",
   "execution_count": null,
   "id": "467f8ddd",
   "metadata": {},
   "outputs": [],
   "source": [
    "#Division (Output should be as below)\n",
    "a= 76\n",
    "b= 31\n",
    "Float Div = 2.4516129032258065"
   ]
  },
  {
   "cell_type": "code",
   "execution_count": 31,
   "id": "785eeb50",
   "metadata": {},
   "outputs": [],
   "source": [
    "a= 76\n",
    "b= 31\n",
    "Floatdiv=a/b"
   ]
  },
  {
   "cell_type": "code",
   "execution_count": 32,
   "id": "bd2eac54",
   "metadata": {},
   "outputs": [
    {
     "name": "stdout",
     "output_type": "stream",
     "text": [
      "a= 76\n",
      "b= 31\n",
      "Floatdiv = 2.4516129032258065\n"
     ]
    }
   ],
   "source": [
    "print(\"a= 76\")\n",
    "print(\"b= 31\")\n",
    "print(\"Floatdiv =\",Floatdiv)"
   ]
  },
  {
   "cell_type": "code",
   "execution_count": null,
   "id": "ed8e7f35",
   "metadata": {},
   "outputs": [],
   "source": [
    "#Floor division (Output should be as below)\n",
    "a= 76\n",
    "b= 31\n",
    "Floor Div = 2"
   ]
  },
  {
   "cell_type": "code",
   "execution_count": 35,
   "id": "b3f55d53",
   "metadata": {},
   "outputs": [],
   "source": [
    "a= 76\n",
    "b= 31\n",
    "Floordiv=a//b"
   ]
  },
  {
   "cell_type": "code",
   "execution_count": 36,
   "id": "a50934ab",
   "metadata": {},
   "outputs": [
    {
     "name": "stdout",
     "output_type": "stream",
     "text": [
      "a= 76\n",
      "b= 31\n",
      "Floordiv = 2\n"
     ]
    }
   ],
   "source": [
    "print(\"a= 76\")\n",
    "print(\"b= 31\")\n",
    "print(\"Floordiv =\",Floordiv)"
   ]
  },
  {
   "cell_type": "code",
   "execution_count": null,
   "id": "0d10a235",
   "metadata": {},
   "outputs": [],
   "source": [
    "#Modulo (Output should be as below)\n",
    "a= 76\n",
    "b= 31\n",
    "Modulo = 14"
   ]
  },
  {
   "cell_type": "code",
   "execution_count": 37,
   "id": "89f6c0f0",
   "metadata": {},
   "outputs": [],
   "source": [
    "a= 76\n",
    "b= 31\n",
    "Modulo =a%b"
   ]
  },
  {
   "cell_type": "code",
   "execution_count": 38,
   "id": "541f50b1",
   "metadata": {},
   "outputs": [
    {
     "name": "stdout",
     "output_type": "stream",
     "text": [
      "a= 76\n",
      "b= 31\n",
      "Modulo = 14\n"
     ]
    }
   ],
   "source": [
    "print(\"a= 76\")\n",
    "print(\"b= 31\")\n",
    "print(\"Modulo =\",Modulo)"
   ]
  },
  {
   "cell_type": "code",
   "execution_count": null,
   "id": "45888a25",
   "metadata": {},
   "outputs": [],
   "source": [
    "#Power (Output should be as below)\n",
    "a= 4\n",
    "b= 4\n",
    "Power = 256"
   ]
  },
  {
   "cell_type": "code",
   "execution_count": 51,
   "id": "2db05348",
   "metadata": {},
   "outputs": [
    {
     "name": "stdout",
     "output_type": "stream",
     "text": [
      "\n"
     ]
    }
   ],
   "source": [
    "base = 4\n",
    "power = 4\n",
    "result = pow(base,power)\n",
    "print()"
   ]
  },
  {
   "cell_type": "code",
   "execution_count": 49,
   "id": "7e64c5ad",
   "metadata": {},
   "outputs": [],
   "source": [
    "a = 4\n",
    "b = 4\n",
    "Power = pow(a,b)\n"
   ]
  },
  {
   "cell_type": "code",
   "execution_count": 50,
   "id": "2a4e04d2",
   "metadata": {},
   "outputs": [
    {
     "name": "stdout",
     "output_type": "stream",
     "text": [
      "a= 4\n",
      "b= 4\n",
      "Power = 256\n"
     ]
    }
   ],
   "source": [
    "print(\"a= 4\")\n",
    "print(\"b= 4\")\n",
    "print(\"Power =\",Power)"
   ]
  },
  {
   "cell_type": "code",
   "execution_count": null,
   "id": "0daa2733",
   "metadata": {},
   "outputs": [],
   "source": []
  }
 ],
 "metadata": {
  "kernelspec": {
   "display_name": "Python 3 (ipykernel)",
   "language": "python",
   "name": "python3"
  },
  "language_info": {
   "codemirror_mode": {
    "name": "ipython",
    "version": 3
   },
   "file_extension": ".py",
   "mimetype": "text/x-python",
   "name": "python",
   "nbconvert_exporter": "python",
   "pygments_lexer": "ipython3",
   "version": "3.11.5"
  }
 },
 "nbformat": 4,
 "nbformat_minor": 5
}
