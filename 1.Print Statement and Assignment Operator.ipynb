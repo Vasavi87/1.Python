{
 "cells": [
  {
   "cell_type": "code",
   "execution_count": 2,
   "id": "9fc6fc82",
   "metadata": {},
   "outputs": [
    {
     "name": "stdout",
     "output_type": "stream",
     "text": [
      "Welcome\n"
     ]
    }
   ],
   "source": [
    "print(\"Welcome\")"
   ]
  },
  {
   "cell_type": "code",
   "execution_count": 1,
   "id": "b6684b2d",
   "metadata": {},
   "outputs": [],
   "source": [
    "num1=10\n",
    "num2=20\n",
    "num3=30"
   ]
  },
  {
   "cell_type": "code",
   "execution_count": 3,
   "id": "45600c35",
   "metadata": {},
   "outputs": [],
   "source": [
    "firstname = \"vasavi\""
   ]
  },
  {
   "cell_type": "code",
   "execution_count": 4,
   "id": "10538c76",
   "metadata": {},
   "outputs": [
    {
     "name": "stdout",
     "output_type": "stream",
     "text": [
      "Welcome Vasavi!\n"
     ]
    }
   ],
   "source": [
    "print(\"Welcome Vasavi!\")"
   ]
  },
  {
   "cell_type": "code",
   "execution_count": 5,
   "id": "dd454c58",
   "metadata": {},
   "outputs": [],
   "source": [
    "add=num1+num2"
   ]
  },
  {
   "cell_type": "code",
   "execution_count": 6,
   "id": "ddd4a882",
   "metadata": {},
   "outputs": [
    {
     "name": "stdout",
     "output_type": "stream",
     "text": [
      "add\n",
      "30\n"
     ]
    }
   ],
   "source": [
    "print(\"add\")\n",
    "print(add)"
   ]
  },
  {
   "cell_type": "code",
   "execution_count": 7,
   "id": "15897b57",
   "metadata": {},
   "outputs": [
    {
     "name": "stdout",
     "output_type": "stream",
     "text": [
      "addition of two numbers\n",
      "The number 1: 10\n",
      "The number 2: 20\n",
      "The Answer: 30\n"
     ]
    }
   ],
   "source": [
    "print(\"addition of two numbers\")\n",
    "print(\"The number 1:\",num1)\n",
    "print(\"The number 2:\",num2)\n",
    "print(\"The Answer:\", add)"
   ]
  },
  {
   "cell_type": "code",
   "execution_count": 8,
   "id": "a5f76ab6",
   "metadata": {},
   "outputs": [
    {
     "name": "stdout",
     "output_type": "stream",
     "text": [
      "multiplication of two numbers: 200\n"
     ]
    }
   ],
   "source": [
    "print(\"multiplication of two numbers:\",num1*num2)"
   ]
  },
  {
   "cell_type": "code",
   "execution_count": 9,
   "id": "1d46728b",
   "metadata": {},
   "outputs": [
    {
     "name": "stdout",
     "output_type": "stream",
     "text": [
      "subtraction of two number: 10\n"
     ]
    }
   ],
   "source": [
    "print(\"subtraction of two number:\",num2-num1)"
   ]
  },
  {
   "cell_type": "code",
   "execution_count": 10,
   "id": "a976e36e",
   "metadata": {},
   "outputs": [
    {
     "name": "stdout",
     "output_type": "stream",
     "text": [
      "division of two number: 2.0\n"
     ]
    }
   ],
   "source": [
    "print(\"division of two number:\",num2/num1)"
   ]
  },
  {
   "cell_type": "code",
   "execution_count": 11,
   "id": "fb0205fb",
   "metadata": {},
   "outputs": [
    {
     "name": "stdout",
     "output_type": "stream",
     "text": [
      "Enter the number1:20\n"
     ]
    }
   ],
   "source": [
    "num1=int(input(\"Enter the number1:\"))"
   ]
  },
  {
   "cell_type": "code",
   "execution_count": 7,
   "id": "bb0db4c3",
   "metadata": {},
   "outputs": [
    {
     "name": "stdout",
     "output_type": "stream",
     "text": [
      "Enter the number2:30\n"
     ]
    }
   ],
   "source": [
    "num2=int(input(\"Enter the number2:\"))\n"
   ]
  },
  {
   "cell_type": "code",
   "execution_count": 10,
   "id": "2f28b09f",
   "metadata": {},
   "outputs": [],
   "source": [
    "add=num1+num2"
   ]
  },
  {
   "cell_type": "code",
   "execution_count": 11,
   "id": "4be28cd5",
   "metadata": {},
   "outputs": [
    {
     "name": "stdout",
     "output_type": "stream",
     "text": [
      "50\n"
     ]
    }
   ],
   "source": [
    "print(add)"
   ]
  },
  {
   "cell_type": "code",
   "execution_count": null,
   "id": "55040d36",
   "metadata": {},
   "outputs": [],
   "source": []
  }
 ],
 "metadata": {
  "kernelspec": {
   "display_name": "Python 3 (ipykernel)",
   "language": "python",
   "name": "python3"
  },
  "language_info": {
   "codemirror_mode": {
    "name": "ipython",
    "version": 3
   },
   "file_extension": ".py",
   "mimetype": "text/x-python",
   "name": "python",
   "nbconvert_exporter": "python",
   "pygments_lexer": "ipython3",
   "version": "3.11.5"
  }
 },
 "nbformat": 4,
 "nbformat_minor": 5
}
