{
 "cells": [
  {
   "cell_type": "code",
   "execution_count": null,
   "id": "ea9ff644",
   "metadata": {},
   "outputs": [],
   "source": [
    "# Creating an empty Tuple"
   ]
  },
  {
   "cell_type": "code",
   "execution_count": 1,
   "id": "86903db9",
   "metadata": {},
   "outputs": [
    {
     "name": "stdout",
     "output_type": "stream",
     "text": [
      "Initial empty Tuple: \n",
      "()\n"
     ]
    }
   ],
   "source": [
    "Tuple1=()\n",
    "print(\"Initial empty Tuple: \")\n",
    "print(Tuple1)"
   ]
  },
  {
   "cell_type": "code",
   "execution_count": null,
   "id": "3c817799",
   "metadata": {},
   "outputs": [],
   "source": [
    "# Creating a Tuple\n",
    "# with the use of string"
   ]
  },
  {
   "cell_type": "code",
   "execution_count": 3,
   "id": "38fdfeba",
   "metadata": {},
   "outputs": [
    {
     "name": "stdout",
     "output_type": "stream",
     "text": [
      "Tuple with the use of String:\n",
      "('Greeks', 'For')\n"
     ]
    }
   ],
   "source": [
    "Tuple1=('Greeks','For')\n",
    "print(\"Tuple with the use of String:\")\n",
    "print(Tuple1)"
   ]
  },
  {
   "cell_type": "code",
   "execution_count": null,
   "id": "84283bd9",
   "metadata": {},
   "outputs": [],
   "source": [
    "# Creating a Tuple with\n",
    "# the use of list"
   ]
  },
  {
   "cell_type": "code",
   "execution_count": 4,
   "id": "e21195a7",
   "metadata": {},
   "outputs": [
    {
     "name": "stdout",
     "output_type": "stream",
     "text": [
      "Tuples with the use of List:\n",
      "(1, 2, 4, 5, 6)\n"
     ]
    }
   ],
   "source": [
    "List1= [1, 2, 4, 5, 6]\n",
    "print(\"Tuples with the use of List:\")\n",
    "print(tuple(List1))"
   ]
  },
  {
   "cell_type": "code",
   "execution_count": null,
   "id": "d1e47ace",
   "metadata": {},
   "outputs": [],
   "source": [
    "# Creating a Tuple\n",
    "# with the use of built-in function"
   ]
  },
  {
   "cell_type": "code",
   "execution_count": 5,
   "id": "56bf8b36",
   "metadata": {},
   "outputs": [
    {
     "name": "stdout",
     "output_type": "stream",
     "text": [
      "Tuples with the use of built in function:\n",
      "('G', 'r', 'e', 'e', 'k', 's')\n"
     ]
    }
   ],
   "source": [
    "Tuple1= tuple('Greeks')\n",
    "print(\"Tuples with the use of built in function:\")\n",
    "print(Tuple1)"
   ]
  },
  {
   "cell_type": "code",
   "execution_count": null,
   "id": "2b2174f8",
   "metadata": {},
   "outputs": [],
   "source": []
  }
 ],
 "metadata": {
  "kernelspec": {
   "display_name": "Python 3 (ipykernel)",
   "language": "python",
   "name": "python3"
  },
  "language_info": {
   "codemirror_mode": {
    "name": "ipython",
    "version": 3
   },
   "file_extension": ".py",
   "mimetype": "text/x-python",
   "name": "python",
   "nbconvert_exporter": "python",
   "pygments_lexer": "ipython3",
   "version": "3.11.5"
  }
 },
 "nbformat": 4,
 "nbformat_minor": 5
}
