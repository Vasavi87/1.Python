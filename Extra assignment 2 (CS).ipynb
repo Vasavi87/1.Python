{
 "cells": [
  {
   "cell_type": "code",
   "execution_count": null,
   "id": "3c900db0",
   "metadata": {},
   "outputs": [],
   "source": [
    "# print 0 to 20 by using range"
   ]
  },
  {
   "cell_type": "code",
   "execution_count": 1,
   "id": "998383c4",
   "metadata": {},
   "outputs": [
    {
     "name": "stdout",
     "output_type": "stream",
     "text": [
      "0\n",
      "1\n",
      "2\n",
      "3\n",
      "4\n",
      "5\n",
      "6\n",
      "7\n",
      "8\n",
      "9\n",
      "10\n",
      "11\n",
      "12\n",
      "13\n",
      "14\n",
      "15\n",
      "16\n",
      "17\n",
      "18\n",
      "19\n"
     ]
    }
   ],
   "source": [
    "for num in range(0,20):\n",
    "    print(num)"
   ]
  },
  {
   "cell_type": "code",
   "execution_count": null,
   "id": "e9739c6e",
   "metadata": {},
   "outputs": [],
   "source": [
    "# print range 10 to 20"
   ]
  },
  {
   "cell_type": "code",
   "execution_count": 2,
   "id": "c8530f99",
   "metadata": {},
   "outputs": [
    {
     "name": "stdout",
     "output_type": "stream",
     "text": [
      "[10, 11, 12, 13, 14, 15, 16, 17, 18, 19]\n"
     ]
    }
   ],
   "source": [
    "Range=range(10,20,1)\n",
    "print(list(Range))"
   ]
  },
  {
   "cell_type": "code",
   "execution_count": null,
   "id": "3478e687",
   "metadata": {},
   "outputs": [],
   "source": [
    "# Print number of items in the list by using 'len'"
   ]
  },
  {
   "cell_type": "code",
   "execution_count": 5,
   "id": "321d0ee6",
   "metadata": {},
   "outputs": [
    {
     "name": "stdout",
     "output_type": "stream",
     "text": [
      "Number of items in List 2: 7\n"
     ]
    }
   ],
   "source": [
    "List=[10,20,14,55,43,87,76] \n",
    "print(\"Number of items in List 2:\",len(List))"
   ]
  },
  {
   "cell_type": "code",
   "execution_count": 6,
   "id": "323d0353",
   "metadata": {},
   "outputs": [],
   "source": [
    "List=[10,20,14,55,43,87,76]"
   ]
  },
  {
   "cell_type": "code",
   "execution_count": 7,
   "id": "caecc93a",
   "metadata": {},
   "outputs": [
    {
     "name": "stdout",
     "output_type": "stream",
     "text": [
      "Number of items in List 2:\n",
      "7\n"
     ]
    }
   ],
   "source": [
    "print(\"Number of items in List 2:\")\n",
    "print(len(List))"
   ]
  },
  {
   "cell_type": "code",
   "execution_count": null,
   "id": "680e1a38",
   "metadata": {},
   "outputs": [],
   "source": [
    "Artificial Intelligence"
   ]
  },
  {
   "cell_type": "code",
   "execution_count": 63,
   "id": "80ed4ab2",
   "metadata": {},
   "outputs": [
    {
     "name": "stdout",
     "output_type": "stream",
     "text": [
      "23\n"
     ]
    }
   ],
   "source": [
    "String= \"Artificial Intelligence\"\n",
    "print(len(String))"
   ]
  },
  {
   "cell_type": "code",
   "execution_count": 64,
   "id": "9cab9db9",
   "metadata": {},
   "outputs": [
    {
     "name": "stdout",
     "output_type": "stream",
     "text": [
      "Artificial Intelligence\n",
      "A\n",
      "r\n",
      "t\n",
      "i\n",
      "f\n",
      "i\n",
      "c\n",
      "i\n",
      "a\n",
      "l\n",
      " \n",
      "I\n",
      "n\n",
      "t\n",
      "e\n",
      "l\n",
      "l\n",
      "i\n",
      "g\n",
      "e\n",
      "n\n",
      "c\n",
      "e\n"
     ]
    },
    {
     "ename": "IndexError",
     "evalue": "string index out of range",
     "output_type": "error",
     "traceback": [
      "\u001b[1;31m---------------------------------------------------------------------------\u001b[0m",
      "\u001b[1;31mIndexError\u001b[0m                                Traceback (most recent call last)",
      "Cell \u001b[1;32mIn[64], line 25\u001b[0m\n\u001b[0;32m     23\u001b[0m \u001b[38;5;28mprint\u001b[39m(String[\u001b[38;5;241m21\u001b[39m])\n\u001b[0;32m     24\u001b[0m \u001b[38;5;28mprint\u001b[39m(String[\u001b[38;5;241m22\u001b[39m])\n\u001b[1;32m---> 25\u001b[0m \u001b[38;5;28mprint\u001b[39m(String[\u001b[38;5;241m23\u001b[39m])\n",
      "\u001b[1;31mIndexError\u001b[0m: string index out of range"
     ]
    }
   ],
   "source": [
    "print(\"Artificial Intelligence\")\n",
    "print(String[0])\n",
    "print(String[1])\n",
    "print(String[2])\n",
    "print(String[3])\n",
    "print(String[4])\n",
    "print(String[5])\n",
    "print(String[6])\n",
    "print(String[7])\n",
    "print(String[8])\n",
    "print(String[9])\n",
    "print(String[10])\n",
    "print(String[11])\n",
    "print(String[12])\n",
    "print(String[13])\n",
    "print(String[14])\n",
    "print(String[15])\n",
    "print(String[16])\n",
    "print(String[17])\n",
    "print(String[18])\n",
    "print(String[19])\n",
    "print(String[20])\n",
    "print(String[21])\n",
    "print(String[22])\n",
    "print(String[23])"
   ]
  },
  {
   "cell_type": "code",
   "execution_count": null,
   "id": "21d3c5d4",
   "metadata": {},
   "outputs": [],
   "source": [
    "String= \"Artificial Intelligence\""
   ]
  },
  {
   "cell_type": "code",
   "execution_count": 60,
   "id": "57704243",
   "metadata": {},
   "outputs": [
    {
     "ename": "TypeError",
     "evalue": "'<' not supported between instances of 'str' and 'int'",
     "output_type": "error",
     "traceback": [
      "\u001b[1;31m---------------------------------------------------------------------------\u001b[0m",
      "\u001b[1;31mTypeError\u001b[0m                                 Traceback (most recent call last)",
      "Cell \u001b[1;32mIn[60], line 1\u001b[0m\n\u001b[1;32m----> 1\u001b[0m \u001b[38;5;28;01mif\u001b[39;00m String\u001b[38;5;241m<\u001b[39m\u001b[38;5;28mlen\u001b[39m(\u001b[38;5;124m\"\u001b[39m\u001b[38;5;124mArtificial Intelligence\u001b[39m\u001b[38;5;124m\"\u001b[39m):\n\u001b[0;32m      2\u001b[0m     \u001b[38;5;28mprint\u001b[39m(String, \u001b[38;5;124m\"\u001b[39m\u001b[38;5;124mArtificial Intelligence\u001b[39m\u001b[38;5;124m\"\u001b[39m[String])\n",
      "\u001b[1;31mTypeError\u001b[0m: '<' not supported between instances of 'str' and 'int'"
     ]
    }
   ],
   "source": [
    "if String<len(\"Artificial Intelligence\"):\n",
    "    print(String, \"Artificial Intelligence\"[String])"
   ]
  },
  {
   "cell_type": "code",
   "execution_count": null,
   "id": "1e56a4e4",
   "metadata": {},
   "outputs": [],
   "source": [
    "for r in range(0,len(l1)):\n",
    "  if r < len(your_name):\n",
    "     print(r, your_name[r]"
   ]
  },
  {
   "cell_type": "code",
   "execution_count": 72,
   "id": "1d689444",
   "metadata": {},
   "outputs": [
    {
     "name": "stdout",
     "output_type": "stream",
     "text": [
      "Artificial Intelligence\n",
      "A\n",
      "r\n",
      "t\n",
      "i\n",
      "f\n",
      "i\n",
      "c\n",
      "i\n",
      "a\n",
      "l\n",
      " \n",
      "I\n",
      "n\n",
      "t\n",
      "e\n",
      "l\n",
      "l\n",
      "i\n",
      "g\n",
      "e\n",
      "n\n",
      "c\n",
      "e\n"
     ]
    }
   ],
   "source": [
    "print(\"Artificial Intelligence\")\n",
    "for r in range(0,len(String)):\n",
    "    if r < len(\"Artificial Intelligence\"):\n",
    "        print(\"Artificial Intelligence\"[r])"
   ]
  },
  {
   "cell_type": "code",
   "execution_count": null,
   "id": "2953b9b4",
   "metadata": {},
   "outputs": [],
   "source": [
    "-Your Name-\n",
    "-Your Age-\n",
    "-Your Profession-\n"
   ]
  },
  {
   "cell_type": "code",
   "execution_count": 1,
   "id": "9929ce3b",
   "metadata": {},
   "outputs": [
    {
     "name": "stdout",
     "output_type": "stream",
     "text": [
      "-Your Name-\n",
      "-Your Age-\n",
      "-Your Profession-\n"
     ]
    }
   ],
   "source": [
    "print(\"-Your Name-\")\n",
    "print(\"-Your Age-\")\n",
    "print(\"-Your Profession-\")"
   ]
  },
  {
   "cell_type": "code",
   "execution_count": null,
   "id": "bc09c477",
   "metadata": {},
   "outputs": [],
   "source": [
    "# print Odd Numbers in the list"
   ]
  },
  {
   "cell_type": "code",
   "execution_count": 2,
   "id": "6c68ef97",
   "metadata": {},
   "outputs": [],
   "source": [
    "List=[20,10,16,19,25,1,276,188] "
   ]
  },
  {
   "cell_type": "code",
   "execution_count": 16,
   "id": "6f094ec4",
   "metadata": {},
   "outputs": [
    {
     "name": "stdout",
     "output_type": "stream",
     "text": [
      "19 is Odd\n",
      "25 is Odd\n",
      "1 is Odd\n"
     ]
    }
   ],
   "source": [
    "for num in List:\n",
    "    if(num%2==1):\n",
    "        print(num, (\"is Odd\"))\n",
    "    "
   ]
  },
  {
   "cell_type": "code",
   "execution_count": 13,
   "id": "13728973",
   "metadata": {},
   "outputs": [],
   "source": [
    "number= [20,10,16,19,25,1,276,188]"
   ]
  },
  {
   "cell_type": "code",
   "execution_count": 17,
   "id": "9d366218",
   "metadata": {},
   "outputs": [
    {
     "name": "stdout",
     "output_type": "stream",
     "text": [
      "19 is odd\n",
      "25 is odd\n",
      "1 is odd\n"
     ]
    }
   ],
   "source": [
    "for num in number:\n",
    "    if(num%2==1):\n",
    "        print(num, \"is odd\")"
   ]
  },
  {
   "cell_type": "code",
   "execution_count": null,
   "id": "8ead540a",
   "metadata": {},
   "outputs": [],
   "source": [
    "# print Even numbers in the list"
   ]
  },
  {
   "cell_type": "code",
   "execution_count": 18,
   "id": "8506302b",
   "metadata": {},
   "outputs": [],
   "source": [
    "List=[20,10,16,19,25,1,276,188] "
   ]
  },
  {
   "cell_type": "code",
   "execution_count": 19,
   "id": "ef27df9b",
   "metadata": {},
   "outputs": [
    {
     "name": "stdout",
     "output_type": "stream",
     "text": [
      "20 is Even\n",
      "10 is Even\n",
      "16 is Even\n",
      "276 is Even\n",
      "188 is Even\n"
     ]
    }
   ],
   "source": [
    "for num in List:\n",
    "    if(num%2==0):\n",
    "        print(num, \"is Even\")"
   ]
  },
  {
   "cell_type": "code",
   "execution_count": null,
   "id": "6f0ab717",
   "metadata": {},
   "outputs": [],
   "source": [
    "# Refer this link : https://www.geeksforgeeks.org/python-tuples/\n",
    "Tuple1 = (0, 1, 2, 3)"
   ]
  },
  {
   "cell_type": "code",
   "execution_count": 25,
   "id": "41f5b409",
   "metadata": {},
   "outputs": [
    {
     "name": "stdout",
     "output_type": "stream",
     "text": [
      "((0, 1, 2, 3), ('python', 'HOPE'))\n"
     ]
    }
   ],
   "source": [
    "Tuple1 = (0, 1, 2, 3)\n",
    "Tuple2= ('python', 'HOPE')\n",
    "print((Tuple1,Tuple2))"
   ]
  },
  {
   "cell_type": "code",
   "execution_count": null,
   "id": "d581393e",
   "metadata": {},
   "outputs": [],
   "source": [
    "# Refer this link : https://www.geeksforgeeks.org/python-tuples/\n",
    "# Print yhis mixered datatype using Tuples\n",
    "(1, 'Welcome', 2, 'Hope')"
   ]
  },
  {
   "cell_type": "code",
   "execution_count": 29,
   "id": "e20295c1",
   "metadata": {},
   "outputs": [
    {
     "name": "stdout",
     "output_type": "stream",
     "text": [
      "(1, 'Welcome', 2, 'Hope')\n"
     ]
    }
   ],
   "source": [
    "Tuple1=(1, 'Welcome', 2, 'Hope')\n",
    "print(Tuple1)"
   ]
  },
  {
   "cell_type": "code",
   "execution_count": null,
   "id": "f6fe8c12",
   "metadata": {},
   "outputs": [],
   "source": []
  }
 ],
 "metadata": {
  "kernelspec": {
   "display_name": "Python 3 (ipykernel)",
   "language": "python",
   "name": "python3"
  },
  "language_info": {
   "codemirror_mode": {
    "name": "ipython",
    "version": 3
   },
   "file_extension": ".py",
   "mimetype": "text/x-python",
   "name": "python",
   "nbconvert_exporter": "python",
   "pygments_lexer": "ipython3",
   "version": "3.11.5"
  }
 },
 "nbformat": 4,
 "nbformat_minor": 5
}
