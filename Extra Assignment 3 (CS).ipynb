{
 "cells": [
  {
   "cell_type": "code",
   "execution_count": null,
   "id": "5b454e85",
   "metadata": {},
   "outputs": [],
   "source": [
    "# print 'CORRECT' if i == 10\n",
    "value: 10\n",
    "Corret"
   ]
  },
  {
   "cell_type": "code",
   "execution_count": 2,
   "id": "0ee1ae4a",
   "metadata": {},
   "outputs": [
    {
     "name": "stdout",
     "output_type": "stream",
     "text": [
      "value: 10\n",
      "Correct\n"
     ]
    }
   ],
   "source": [
    "i=int(input(\"value: \"))\n",
    "if(i==10):\n",
    "    print(\"Correct\")"
   ]
  },
  {
   "cell_type": "code",
   "execution_count": null,
   "id": "9f9b0ed9",
   "metadata": {},
   "outputs": [],
   "source": [
    "# Check the password, using if and else\n",
    "Enter the password: HOPE@123\n",
    "Your password is correct"
   ]
  },
  {
   "cell_type": "code",
   "execution_count": 1,
   "id": "eacb0000",
   "metadata": {},
   "outputs": [
    {
     "name": "stdout",
     "output_type": "stream",
     "text": [
      "Enter the password: HOPE@123\n",
      "Your password is correct\n"
     ]
    }
   ],
   "source": [
    "Password=input(\"Enter the password: \")\n",
    "if(Password== \"HOPE@123\"):\n",
    "    print(\"Your password is correct\")\n",
    "else:\n",
    "    print(\"Your password is Wrong\")"
   ]
  },
  {
   "cell_type": "code",
   "execution_count": null,
   "id": "c11230f2",
   "metadata": {},
   "outputs": [],
   "source": [
    "# Catagory the people by their age like children, adult, citizen, senior citizen...\n",
    "age: 20\n",
    "Adult"
   ]
  },
  {
   "cell_type": "code",
   "execution_count": 6,
   "id": "2a1e278f",
   "metadata": {},
   "outputs": [
    {
     "name": "stdout",
     "output_type": "stream",
     "text": [
      "age: 20\n",
      "Adult\n"
     ]
    }
   ],
   "source": [
    "Age=int(input(\"age: \"))\n",
    "if(Age<18):\n",
    "    print(\"Children\")\n",
    "elif(Age<35):\n",
    "     print(\"Adult\")\n",
    "elif(Age<59):\n",
    "    print(\"Citizen\")\n",
    "else:\n",
    "    print(\"Senior citizen\")"
   ]
  },
  {
   "cell_type": "code",
   "execution_count": null,
   "id": "20998cc9",
   "metadata": {},
   "outputs": [],
   "source": [
    "# Find whether given number is positive or negative\n",
    "Enter any number:1\n",
    "No is positive"
   ]
  },
  {
   "cell_type": "code",
   "execution_count": 9,
   "id": "afe87b48",
   "metadata": {},
   "outputs": [
    {
     "name": "stdout",
     "output_type": "stream",
     "text": [
      "Enter any number: 1\n",
      "No is positive\n"
     ]
    }
   ],
   "source": [
    "Num=int(input(\"Enter any number: \"))\n",
    "if(Num<0):\n",
    "    print(\"No is negative\")\n",
    "else:\n",
    "    print('No is positive')"
   ]
  },
  {
   "cell_type": "code",
   "execution_count": null,
   "id": "3eadd6b4",
   "metadata": {},
   "outputs": [],
   "source": [
    "# Check whether the given number is divisible by 5\n",
    "Enter a number to check:22\n",
    "No is not divisible by 5"
   ]
  },
  {
   "cell_type": "code",
   "execution_count": 10,
   "id": "b72e93d2",
   "metadata": {},
   "outputs": [
    {
     "name": "stdout",
     "output_type": "stream",
     "text": [
      "Enter a number to check:22\n",
      "No is not divisible by 5\n"
     ]
    }
   ],
   "source": [
    "Num=int(input(\"Enter a number to check:\"))\n",
    "if(Num%5==0):\n",
    "    print(\"No is divisible by 5\")\n",
    "else:\n",
    "    print(\"No is not divisible by 5\")"
   ]
  },
  {
   "cell_type": "code",
   "execution_count": null,
   "id": "809fee28",
   "metadata": {},
   "outputs": [],
   "source": []
  }
 ],
 "metadata": {
  "kernelspec": {
   "display_name": "Python 3 (ipykernel)",
   "language": "python",
   "name": "python3"
  },
  "language_info": {
   "codemirror_mode": {
    "name": "ipython",
    "version": 3
   },
   "file_extension": ".py",
   "mimetype": "text/x-python",
   "name": "python",
   "nbconvert_exporter": "python",
   "pygments_lexer": "ipython3",
   "version": "3.11.5"
  }
 },
 "nbformat": 4,
 "nbformat_minor": 5
}
